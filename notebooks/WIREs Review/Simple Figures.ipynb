{
 "cells": [
  {
   "cell_type": "code",
   "execution_count": 20,
   "metadata": {},
   "outputs": [],
   "source": [
    "import matplotlib as mpl\n",
    "\n",
    "mpl.rc('image', interpolation='none')\n",
    "mpl.rc('savefig', dpi=300, transparent=False, bbox='tight')\n",
    "mpl.rc('path', simplify=True)\n",
    "mpl.rc('axes', linewidth=0.3)\n",
    "mpl.rc('font', size=6)"
   ]
  },
  {
   "cell_type": "code",
   "execution_count": 2,
   "metadata": {},
   "outputs": [],
   "source": [
    "import fpipy as fpi\n",
    "import matplotlib.collections as collections\n",
    "import matplotlib.patches as patches\n",
    "import matplotlib.pyplot as plt\n",
    "import numpy as np\n",
    "\n",
    "from mpl_toolkits.mplot3d import axes3d"
   ]
  },
  {
   "cell_type": "code",
   "execution_count": 3,
   "metadata": {},
   "outputs": [
    {
     "name": "stderr",
     "output_type": "stream",
     "text": [
      "/usr/local/lib/python3.6/dist-packages/rasterio/__init__.py:217: NotGeoreferencedWarning: Dataset has no geotransform set. The identity matrix may be returned.\n",
      "  s = DatasetReader(path, driver=driver, **kwargs)\n"
     ]
    }
   ],
   "source": [
    "prefix = '/root/data/examples'\n",
    "# file_name = 'a965ccdcc83d466386649b1a21a927b1078a71bb'\n",
    "file_name = '766c5be2edbce6492a3bcbd850a0cdaf1654dad9'\n",
    "file_path = '{0}/{1}/RawMeasurementCube.hdr'.format(prefix, file_name)\n",
    "\n",
    "raw_dataset = fpi.read_ENVI_cfa(file_path)\n",
    "rad_dataset = fpi.raw_to_radiance(raw_dataset)"
   ]
  },
  {
   "cell_type": "code",
   "execution_count": 4,
   "metadata": {},
   "outputs": [
    {
     "name": "stdout",
     "output_type": "stream",
     "text": [
      "-0.057320032031230435 0.1779179723780686\n",
      "-0.006051875328445233 0.1779179723780686\n"
     ]
    }
   ],
   "source": [
    "rad_cube = rad_dataset.radiance.values.copy()\n",
    "print(rad_cube.min(), rad_cube.max())\n",
    "print(rad_cube[200:1000, 500:1500].min(), rad_cube[200:1000, 500:1500].max())"
   ]
  },
  {
   "cell_type": "code",
   "execution_count": 5,
   "metadata": {},
   "outputs": [
    {
     "name": "stderr",
     "output_type": "stream",
     "text": [
      "/usr/local/lib/python3.6/dist-packages/rasterio/__init__.py:217: NotGeoreferencedWarning: Dataset has no geotransform set. The identity matrix may be returned.\n",
      "  s = DatasetReader(path, driver=driver, **kwargs)\n"
     ]
    }
   ],
   "source": [
    "file_path = '{0}/{1}/WhiteReference.hdr'.format(prefix, file_name)\n",
    "\n",
    "raw_dataset = fpi.read_ENVI_cfa(file_path)\n",
    "ref_dataset = fpi.raw_to_radiance(raw_dataset)"
   ]
  },
  {
   "cell_type": "code",
   "execution_count": 6,
   "metadata": {},
   "outputs": [
    {
     "name": "stdout",
     "output_type": "stream",
     "text": [
      "-0.16333744901278743 0.28334324624759133\n",
      "-0.004075522884812665 0.23819479902504942\n"
     ]
    }
   ],
   "source": [
    "ref_cube = ref_dataset.radiance.values.copy()\n",
    "print(ref_cube.min(), ref_cube.max())\n",
    "print(ref_cube[200:1000, 500:1500].min(), ref_cube[200:1000, 500:1500].max())"
   ]
  },
  {
   "cell_type": "code",
   "execution_count": 7,
   "metadata": {},
   "outputs": [
    {
     "name": "stdout",
     "output_type": "stream",
     "text": [
      "4.8517304371724374e-08 0.28334324624759133\n",
      "1e-07 0.23819479902504942\n"
     ]
    }
   ],
   "source": [
    "ref_cube[ref_cube < 0] = 0.0000001\n",
    "\n",
    "print(ref_cube.min(), ref_cube.max())\n",
    "print(ref_cube[200:1000, 500:1500].min(), ref_cube[200:1000, 500:1500].max())"
   ]
  },
  {
   "cell_type": "code",
   "execution_count": 8,
   "metadata": {},
   "outputs": [
    {
     "name": "stdout",
     "output_type": "stream",
     "text": [
      "-0.006051875328445233 0.1779179723780686\n",
      "(506, 434, 119)\n",
      "(450, 846, 82)\n"
     ]
    }
   ],
   "source": [
    "cropped = rad_cube[200:1000, 500:1500]\n",
    "\n",
    "print(cropped.min(), cropped.max())\n",
    "print(np.unravel_index(cropped.argmin(), cropped.shape))\n",
    "print(np.unravel_index(cropped.argmax(), cropped.shape))"
   ]
  },
  {
   "cell_type": "code",
   "execution_count": 9,
   "metadata": {},
   "outputs": [
    {
     "name": "stdout",
     "output_type": "stream",
     "text": [
      "-0.08014212056870358 309198.48101899354\n",
      "(506, 434, 119)\n",
      "(54, 30, 119)\n"
     ]
    }
   ],
   "source": [
    "cropped = cropped / ref_cube[200:1000, 500:1500]\n",
    "# cropped = cropped / cropped.max()\n",
    "\n",
    "print(cropped.min(), cropped.max())\n",
    "print(np.unravel_index(cropped.argmin(), cropped.shape))\n",
    "print(np.unravel_index(cropped.argmax(), cropped.shape))"
   ]
  },
  {
   "cell_type": "code",
   "execution_count": 10,
   "metadata": {},
   "outputs": [
    {
     "name": "stdout",
     "output_type": "stream",
     "text": [
      "0.004864181553632332 1.2084588712622557\n",
      "(411, 479, 3)\n",
      "(60, 958, 99)\n"
     ]
    }
   ],
   "source": [
    "cropped = cropped[..., 0:100]\n",
    "# cropped = cropped / cropped.max()\n",
    "\n",
    "print(cropped.min(), cropped.max())\n",
    "print(np.unravel_index(cropped.argmin(), cropped.shape))\n",
    "print(np.unravel_index(cropped.argmax(), cropped.shape))"
   ]
  },
  {
   "cell_type": "code",
   "execution_count": 11,
   "metadata": {
    "scrolled": false
   },
   "outputs": [
    {
     "name": "stdout",
     "output_type": "stream",
     "text": [
      "[460.   461.84 464.2  466.43 468.96 471.16 473.83 476.66 479.12 481.5\n",
      " 483.88 486.82 489.01 491.28 494.12 496.09 498.67 501.44 504.48 506.89\n",
      " 509.53 512.15 514.76 517.53 520.37 523.1  525.76 528.48 531.25 534.27\n",
      " 536.97 539.63 542.39 545.15 547.8  550.48 553.09 555.93 558.72 561.27\n",
      " 564.1  566.55 569.19 571.85 575.39 579.44 582.22 584.92 587.49 590.13\n",
      " 592.77 595.46 598.37 600.98 603.7  606.47 609.16 612.   615.07 617.84\n",
      " 621.01 623.53 626.28 629.25 632.06 634.8  637.95 640.51 643.59 646.8\n",
      " 649.04 651.97 654.93 657.75 660.5  663.63 666.51 669.53 672.59 675.\n",
      " 678.46 682.67 687.25 691.66 696.16 700.39 704.64 708.56 712.78 716.63\n",
      " 720.81 725.04 729.34 733.99 738.38 742.65 746.64 751.27 755.19 759.42]\n"
     ]
    }
   ],
   "source": [
    "wavelengths = rad_dataset.wavelength.values[0:100]\n",
    "print(wavelengths)"
   ]
  },
  {
   "cell_type": "code",
   "execution_count": 12,
   "metadata": {},
   "outputs": [
    {
     "name": "stdout",
     "output_type": "stream",
     "text": [
      "[460 462 464 466 469 471 474 477 479 482 484 487 489 491 494 496 499 501\n",
      " 504 507 510 512 515 518 520 523 526 528 531 534 537 540 542 545 548 550\n",
      " 553 556 559 561 564 567 569 572 575 579 582 585 587 590 593 595 598 601\n",
      " 604 606 609 612 615 618 621 624 626 629 632 635 638 641 644 647 649 652\n",
      " 655 658 660 664 667 670 673 675 678 683 687 692 696 700 705 709 713 717\n",
      " 721 725 729 734 738 743 747 751 755 759]\n"
     ]
    }
   ],
   "source": [
    "wavelengths = np.round(wavelengths, decimals=0).astype(int)\n",
    "print(wavelengths)"
   ]
  },
  {
   "cell_type": "code",
   "execution_count": 13,
   "metadata": {},
   "outputs": [],
   "source": [
    "# https://joseph-long.com/writing/colorbars/\n",
    "from mpl_toolkits.axes_grid1 import make_axes_locatable\n",
    "\n",
    "def colorbar(mappable):\n",
    "    ax = mappable.axes\n",
    "    fig = ax.figure\n",
    "    divider = make_axes_locatable(ax)\n",
    "    cax = divider.append_axes(\"right\", size=\"5%\", pad=0.05)\n",
    "    return fig.colorbar(mappable, cax=cax)"
   ]
  },
  {
   "cell_type": "code",
   "execution_count": 21,
   "metadata": {},
   "outputs": [
    {
     "data": {
      "image/png": "[encoded data removed]",
      "text/plain": [
       "<Figure size 360x144 with 6 Axes>"
      ]
     },
     "metadata": {
      "needs_background": "light"
     },
     "output_type": "display_data"
    }
   ],
   "source": [
    "# fig = plt.figure(figsize=(10, 4))\n",
    "fig = plt.figure(figsize=(5, 2))\n",
    "ax1, ax2, ax3 = fig.subplots(ncols=3)\n",
    "\n",
    "im1 = ax1.imshow(cropped[..., 0], vmin=0, vmax=1, rasterized=True)\n",
    "ax1.set_title(f'{wavelengths[0]} nm')\n",
    "ax1.set_axis_off()\n",
    "colorbar(im1)\n",
    "\n",
    "im2 = ax2.imshow(cropped[..., 49], vmin=0, vmax=1, rasterized=True)\n",
    "ax2.set_title(f'{wavelengths[49]} nm')\n",
    "ax2.set_axis_off()\n",
    "colorbar(im2)\n",
    "\n",
    "\n",
    "im3 = ax3.imshow(cropped[..., 99], vmin=0, vmax=1, rasterized=True)\n",
    "ax3.set_title(f'{wavelengths[99]} nm')\n",
    "ax3.set_axis_off()\n",
    "colorbar(im3)\n",
    "\n",
    "fig.tight_layout()\n",
    "# fig.savefig('output/Figure_6.pdf')\n",
    "fig.savefig('output/Figure_6.eps')\n",
    "fig.show()"
   ]
  },
  {
   "cell_type": "code",
   "execution_count": 15,
   "metadata": {},
   "outputs": [],
   "source": [
    "group1_xy = (100, 100)\n",
    "group1_wh = (100, 100)\n",
    "group1 = cropped[group1_xy[1]:group1_xy[1]+group1_wh[1], group1_xy[0]:group1_xy[0]+group1_wh[0]]\n",
    "group1 = group1[..., :100]\n",
    "\n",
    "group2_xy = (400, 350)\n",
    "group2_wh = (100, 100)\n",
    "group2 = cropped[group2_xy[1]:group2_xy[1]+group2_wh[1], group2_xy[0]:group2_xy[0]+group2_wh[0]]\n",
    "group2 = group2[..., :100]\n",
    "\n",
    "group3_xy = (790, 590)\n",
    "group3_wh = (100, 100)\n",
    "group3 = cropped[group3_xy[1]:group3_xy[1]+group3_wh[1], group3_xy[0]:group3_xy[0]+group3_wh[0]]\n",
    "group3 = group3[..., :100]"
   ]
  },
  {
   "cell_type": "code",
   "execution_count": 23,
   "metadata": {},
   "outputs": [],
   "source": [
    "def add_group_patch(ax, *, xy, size, color):\n",
    "    patch = patches.Rectangle(\n",
    "        xy=xy, \n",
    "        width=size[0], \n",
    "        height=size[1],\n",
    "        color=color,\n",
    "        linewidth=1,\n",
    "        fill=False)\n",
    "    ax.add_patch(patch)"
   ]
  },
  {
   "cell_type": "code",
   "execution_count": 27,
   "metadata": {},
   "outputs": [],
   "source": [
    "def plot_group(ax, *, wavelengths, data, color):\n",
    "    axis = (0, 1)\n",
    "    \n",
    "    spectra_mean = data.mean(axis=axis)\n",
    "    spectra_std = data.std(axis=axis)\n",
    "    spectra_min = data.min(axis=axis)\n",
    "    spectra_max = data.max(axis=axis)\n",
    "    \n",
    "    # ax.fill_between(wavelengths, spectra_min, spectra_max, color=color, alpha=0.2, lw=0)\n",
    "    # ax.plot(wavelengths, spectra_min, color=color, lw=1, ls=':', alpha=1)\n",
    "    # ax.plot(wavelengths, spectra_max, color=color, lw=1, ls=':', alpha=1)\n",
    "    \n",
    "    ax.plot(wavelengths, spectra_mean, color=color, lw=2)"
   ]
  },
  {
   "cell_type": "code",
   "execution_count": 28,
   "metadata": {},
   "outputs": [
    {
     "data": {
      "image/png": "[encoded data removed]",
      "text/plain": [
       "<Figure size 360x126 with 3 Axes>"
      ]
     },
     "metadata": {
      "needs_background": "light"
     },
     "output_type": "display_data"
    }
   ],
   "source": [
    "# fig = plt.figure(figsize=(10, 3.5))\n",
    "fig = plt.figure(figsize=(5, 1.75))\n",
    "ax1, ax2 = fig.subplots(ncols=2)\n",
    "\n",
    "im1 = ax1.imshow(cropped[..., 40], vmin=0, vmax=1, rasterized=True)\n",
    "ax1.set_title(f'{wavelengths[40]} nm')\n",
    "ax1.set_axis_off()\n",
    "colorbar(im1)\n",
    "\n",
    "# group1_fc = 'red'\n",
    "# group2_fc = 'lime'\n",
    "# group3_fc = 'black'\n",
    "group1_fc = 'black'\n",
    "group2_fc = 'magenta'\n",
    "group3_fc = 'lime'\n",
    "\n",
    "add_group_patch(ax1, xy=group1_xy, size=group1_wh, color=group1_fc)\n",
    "add_group_patch(ax1, xy=group2_xy, size=group2_wh, color=group2_fc)\n",
    "add_group_patch(ax1, xy=group3_xy, size=group3_wh, color=group3_fc)\n",
    "\n",
    "ax2.set_xlabel('Wavelength (nm)')\n",
    "ax2.set_ylabel('Reflectance')\n",
    "ax2.set_xlim(wavelengths[0], wavelengths[-1])\n",
    "ax2.set_ylim(0.0, 1.0)\n",
    "\n",
    "plot_group(ax2, data=group1, color=group1_fc, wavelengths=wavelengths)\n",
    "plot_group(ax2, data=group2, color=group2_fc, wavelengths=wavelengths)\n",
    "plot_group(ax2, data=group3, color=group3_fc, wavelengths=wavelengths)\n",
    "\n",
    "fig.tight_layout()\n",
    "# fig.savefig('output/Figure_5.pdf')\n",
    "fig.savefig('output/Figure_5.eps')\n",
    "fig.show()"
   ]
  },
  {
   "cell_type": "code",
   "execution_count": 19,
   "metadata": {},
   "outputs": [],
   "source": [
    "?fig.savefig"
   ]
  }
 ],
 "metadata": {
  "kernelspec": {
   "display_name": "Python 3",
   "language": "python",
   "name": "python3"
  },
  "language_info": {
   "codemirror_mode": {
    "name": "ipython",
    "version": 3
   },
   "file_extension": ".py",
   "mimetype": "text/x-python",
   "name": "python",
   "nbconvert_exporter": "python",
   "pygments_lexer": "ipython3",
   "version": "3.6.7"
  }
 },
 "nbformat": 4,
 "nbformat_minor": 2
}
