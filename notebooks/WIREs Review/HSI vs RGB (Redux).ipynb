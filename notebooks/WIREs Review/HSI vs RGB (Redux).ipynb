{
 "cells": [
  {
   "cell_type": "code",
   "execution_count": 22,
   "metadata": {},
   "outputs": [],
   "source": [
    "import matplotlib as mpl\n",
    "\n",
    "mpl.rc('image', interpolation='none')\n",
    "mpl.rc('savefig', dpi=300, transparent=False, bbox='tight')\n",
    "mpl.rc('path', simplify=True)\n",
    "mpl.rc('axes', linewidth=0.3)\n",
    "mpl.rc('font', size=6)"
   ]
  },
  {
   "cell_type": "code",
   "execution_count": 2,
   "metadata": {},
   "outputs": [],
   "source": [
    "import fpipy as fpi\n",
    "import matplotlib.collections as collections\n",
    "import matplotlib.patches as patches\n",
    "import matplotlib.pyplot as plt\n",
    "import numpy as np\n",
    "\n",
    "from mpl_toolkits.mplot3d import axes3d"
   ]
  },
  {
   "cell_type": "code",
   "execution_count": 3,
   "metadata": {},
   "outputs": [
    {
     "name": "stderr",
     "output_type": "stream",
     "text": [
      "/usr/local/lib/python3.6/dist-packages/rasterio/__init__.py:217: NotGeoreferencedWarning: Dataset has no geotransform set. The identity matrix may be returned.\n",
      "  s = DatasetReader(path, driver=driver, **kwargs)\n"
     ]
    }
   ],
   "source": [
    "prefix = '/root/data/examples'\n",
    "# file_name = 'a965ccdcc83d466386649b1a21a927b1078a71bb'\n",
    "file_name = '766c5be2edbce6492a3bcbd850a0cdaf1654dad9'\n",
    "file_path = '{0}/{1}/RawMeasurementCube.hdr'.format(prefix, file_name)\n",
    "\n",
    "raw_dataset = fpi.read_ENVI_cfa(file_path)\n",
    "rad_dataset = fpi.raw_to_radiance(raw_dataset)"
   ]
  },
  {
   "cell_type": "code",
   "execution_count": 4,
   "metadata": {},
   "outputs": [
    {
     "name": "stdout",
     "output_type": "stream",
     "text": [
      "-0.057320032031230435 0.1779179723780686\n",
      "-0.006051875328445233 0.1779179723780686\n"
     ]
    }
   ],
   "source": [
    "rad_cube = rad_dataset.radiance.values.copy()\n",
    "print(rad_cube.min(), rad_cube.max())\n",
    "print(rad_cube[200:1000, 500:1500].min(), rad_cube[200:1000, 500:1500].max())"
   ]
  },
  {
   "cell_type": "code",
   "execution_count": 5,
   "metadata": {},
   "outputs": [
    {
     "name": "stderr",
     "output_type": "stream",
     "text": [
      "/usr/local/lib/python3.6/dist-packages/rasterio/__init__.py:217: NotGeoreferencedWarning: Dataset has no geotransform set. The identity matrix may be returned.\n",
      "  s = DatasetReader(path, driver=driver, **kwargs)\n"
     ]
    }
   ],
   "source": [
    "file_path = '{0}/{1}/WhiteReference.hdr'.format(prefix, file_name)\n",
    "\n",
    "raw_dataset = fpi.read_ENVI_cfa(file_path)\n",
    "ref_dataset = fpi.raw_to_radiance(raw_dataset)"
   ]
  },
  {
   "cell_type": "code",
   "execution_count": 6,
   "metadata": {},
   "outputs": [
    {
     "name": "stdout",
     "output_type": "stream",
     "text": [
      "-0.16333744901278743 0.28334324624759133\n",
      "-0.004075522884812665 0.23819479902504942\n"
     ]
    }
   ],
   "source": [
    "ref_cube = ref_dataset.radiance.values.copy()\n",
    "print(ref_cube.min(), ref_cube.max())\n",
    "print(ref_cube[200:1000, 500:1500].min(), ref_cube[200:1000, 500:1500].max())"
   ]
  },
  {
   "cell_type": "code",
   "execution_count": 7,
   "metadata": {},
   "outputs": [
    {
     "name": "stdout",
     "output_type": "stream",
     "text": [
      "0.07450981 0.85882354\n",
      "(1200, 1920, 3)\n"
     ]
    }
   ],
   "source": [
    "file_path = '{0}/{1}/RGB_Image.png'.format(prefix, file_name)\n",
    "rgb_image = plt.imread(file_path)\n",
    "\n",
    "print(rgb_image.min(), rgb_image.max())\n",
    "print(rgb_image.shape)"
   ]
  },
  {
   "cell_type": "code",
   "execution_count": 8,
   "metadata": {},
   "outputs": [
    {
     "name": "stdout",
     "output_type": "stream",
     "text": [
      "-0.006051875328445233 0.1779179723780686\n",
      "(506, 434, 119)\n",
      "(450, 846, 82)\n"
     ]
    }
   ],
   "source": [
    "cropped = rad_cube[200:1000, 500:1500]\n",
    "\n",
    "print(cropped.min(), cropped.max())\n",
    "print(np.unravel_index(cropped.argmin(), cropped.shape))\n",
    "print(np.unravel_index(cropped.argmax(), cropped.shape))"
   ]
  },
  {
   "cell_type": "code",
   "execution_count": 9,
   "metadata": {},
   "outputs": [
    {
     "name": "stdout",
     "output_type": "stream",
     "text": [
      "-37.103453753563 67.44348057581078\n",
      "(54, 30, 119)\n",
      "(20, 942, 119)\n"
     ]
    }
   ],
   "source": [
    "cropped = cropped / ref_cube[200:1000, 500:1500]\n",
    "\n",
    "print(cropped.min(), cropped.max())\n",
    "print(np.unravel_index(cropped.argmin(), cropped.shape))\n",
    "print(np.unravel_index(cropped.argmax(), cropped.shape))"
   ]
  },
  {
   "cell_type": "code",
   "execution_count": 10,
   "metadata": {},
   "outputs": [
    {
     "name": "stdout",
     "output_type": "stream",
     "text": [
      "(800, 1000, 3)\n"
     ]
    }
   ],
   "source": [
    "rgb_cropped = rgb_image[200:1000, 500:1500]\n",
    "\n",
    "print(rgb_cropped.shape)"
   ]
  },
  {
   "cell_type": "code",
   "execution_count": 11,
   "metadata": {},
   "outputs": [
    {
     "name": "stdout",
     "output_type": "stream",
     "text": [
      "0.004864181553632332 1.2084588712622557\n",
      "(411, 479, 3)\n",
      "(60, 958, 99)\n"
     ]
    }
   ],
   "source": [
    "cropped = cropped[..., 0:100]\n",
    "\n",
    "print(cropped.min(), cropped.max())\n",
    "print(np.unravel_index(cropped.argmin(), cropped.shape))\n",
    "print(np.unravel_index(cropped.argmax(), cropped.shape))"
   ]
  },
  {
   "cell_type": "code",
   "execution_count": 12,
   "metadata": {},
   "outputs": [
    {
     "name": "stdout",
     "output_type": "stream",
     "text": [
      "0.004864181553632332 1.0\n",
      "(411, 479, 3)\n",
      "(58, 958, 87)\n"
     ]
    }
   ],
   "source": [
    "cropped[cropped < 0] = 0\n",
    "cropped[cropped > 1] = 1\n",
    "\n",
    "print(cropped.min(), cropped.max())\n",
    "print(np.unravel_index(cropped.argmin(), cropped.shape))\n",
    "print(np.unravel_index(cropped.argmax(), cropped.shape))"
   ]
  },
  {
   "cell_type": "code",
   "execution_count": 13,
   "metadata": {
    "scrolled": false
   },
   "outputs": [
    {
     "name": "stdout",
     "output_type": "stream",
     "text": [
      "[460.   461.84 464.2  466.43 468.96 471.16 473.83 476.66 479.12 481.5\n",
      " 483.88 486.82 489.01 491.28 494.12 496.09 498.67 501.44 504.48 506.89\n",
      " 509.53 512.15 514.76 517.53 520.37 523.1  525.76 528.48 531.25 534.27\n",
      " 536.97 539.63 542.39 545.15 547.8  550.48 553.09 555.93 558.72 561.27\n",
      " 564.1  566.55 569.19 571.85 575.39 579.44 582.22 584.92 587.49 590.13\n",
      " 592.77 595.46 598.37 600.98 603.7  606.47 609.16 612.   615.07 617.84\n",
      " 621.01 623.53 626.28 629.25 632.06 634.8  637.95 640.51 643.59 646.8\n",
      " 649.04 651.97 654.93 657.75 660.5  663.63 666.51 669.53 672.59 675.\n",
      " 678.46 682.67 687.25 691.66 696.16 700.39 704.64 708.56 712.78 716.63\n",
      " 720.81 725.04 729.34 733.99 738.38 742.65 746.64 751.27 755.19 759.42]\n"
     ]
    }
   ],
   "source": [
    "wavelengths = rad_dataset.wavelength.values[0:100]\n",
    "print(wavelengths)"
   ]
  },
  {
   "cell_type": "code",
   "execution_count": 14,
   "metadata": {},
   "outputs": [],
   "source": [
    "def image_plane(image):\n",
    "    if type(image) is str:\n",
    "        image = plt.imread(image)\n",
    "    height, width = image.shape[0:2]\n",
    "    \n",
    "    xx, yy = np.meshgrid(\n",
    "        np.linspace(1, width, width),\n",
    "        np.linspace(1, height, height),\n",
    "    )\n",
    "    \n",
    "    zz = np.zeros_like(xx)\n",
    "    \n",
    "    return image, xx, yy, zz"
   ]
  },
  {
   "cell_type": "code",
   "execution_count": 15,
   "metadata": {},
   "outputs": [],
   "source": [
    "def init_axes(axes, *, title):\n",
    "    # Change to 'ortho' for orthographic projection.\n",
    "    proj_type = 'persp'\n",
    "    \n",
    "    # Common 3D view parameters; elevation and XY-plane azimuth.\n",
    "    view_params = { 'elev': 45, 'azim': -70 }\n",
    "    \n",
    "    axes.view_init(**view_params)\n",
    "    axes.set_proj_type(proj_type)\n",
    "    # axes.set_aspect('equal', adjustable='box')\n",
    "    axes.set_title(title, rotation=-10, position=(0.63, 1.05))\n",
    "    \n",
    "    axes.grid(False)\n",
    "    \n",
    "    alpha = 1.0\n",
    "    axes.xaxis.pane.set_alpha(alpha)\n",
    "    axes.yaxis.pane.set_alpha(alpha)\n",
    "    axes.zaxis.pane.set_alpha(alpha)"
   ]
  },
  {
   "cell_type": "code",
   "execution_count": 27,
   "metadata": {
    "scrolled": true
   },
   "outputs": [
    {
     "name": "stdout",
     "output_type": "stream",
     "text": [
      "Plotting cube...\n",
      "Done!\n"
     ]
    },
    {
     "data": {
      "image/png": "[encoded data removed]",
      "text/plain": [
       "<Figure size 360x144 with 2 Axes>"
      ]
     },
     "metadata": {},
     "output_type": "display_data"
    }
   ],
   "source": [
    "# The stride used when rendering the 3D surfaces.\n",
    "stride = 20\n",
    "\n",
    "# fig = plt.figure()\n",
    "# fig = plt.figure(figsize=(10, 4))\n",
    "fig = plt.figure(figsize=(5, 2))\n",
    "gs1 = fig.add_gridspec(ncols=2, nrows=1, wspace=0, hspace=0)\n",
    "\n",
    "ax_hsi = fig.add_subplot(gs1[0, 1], projection='3d')\n",
    "ax_rgb = fig.add_subplot(gs1[0, 0], projection='3d')\n",
    "\n",
    "# HSI visualization\n",
    "# -----------------\n",
    "\n",
    "init_axes(ax_hsi, title='Hyperspectral band images')\n",
    "ax_hsi.set_zbound(1, 100)\n",
    "\n",
    "print('Plotting cube...')\n",
    "cm = mpl.cm.ScalarMappable(cmap=mpl.cm.get_cmap('viridis'))\n",
    "for z_idx in np.linspace(0, 99, 21, dtype=int):\n",
    "    # print(z_idx)\n",
    "    img, xx, yy, zz = image_plane(cropped[..., z_idx])\n",
    "    img = cm.to_rgba(img, norm=False)\n",
    "    zz[:, :] = z_idx + 1\n",
    "    ax_hsi.plot_surface(xx, yy, zz, cstride=stride, rstride=stride, facecolors=img, shade=False, rasterized=True)\n",
    "print('Done!')\n",
    "    \n",
    "\n",
    "# RGB visualization\n",
    "# -----------------\n",
    "\n",
    "init_axes(ax_rgb, title='Individual RGB channels')\n",
    "ax_rgb.set_zbound(1, 3)\n",
    "\n",
    "img, xx, yy, zz = image_plane(rgb_cropped[..., 0])\n",
    "cm = mpl.cm.ScalarMappable(cmap=mpl.cm.get_cmap('Reds'))\n",
    "img = cm.to_rgba(img)\n",
    "zz[:, :] = 1\n",
    "ax_rgb.plot_surface(xx, yy, zz, cstride=stride, rstride=stride, facecolors=img, shade=False, rasterized=True)\n",
    "\n",
    "img, xx, yy, zz = image_plane(rgb_cropped[..., 1])\n",
    "cm = mpl.cm.ScalarMappable(cmap=mpl.cm.get_cmap('Greens'))\n",
    "img = cm.to_rgba(img)\n",
    "zz[:, :] = 2\n",
    "ax_rgb.plot_surface(xx, yy, zz, cstride=stride, rstride=stride, facecolors=img, shade=False, rasterized=True)\n",
    "\n",
    "img, xx, yy, zz = image_plane(rgb_cropped[..., 2])\n",
    "cm = mpl.cm.ScalarMappable(cmap=mpl.cm.get_cmap('Blues'))\n",
    "img = cm.to_rgba(img)\n",
    "zz[:, :] = 3\n",
    "ax_rgb.plot_surface(xx, yy, zz, cstride=stride, rstride=stride, facecolors=img, shade=False, rasterized=True)\n",
    "\n",
    "# --//--\n",
    "\n",
    "ax_hsi.set_xbound(1, 1000)\n",
    "ax_hsi.set_ybound(1, 800)\n",
    "\n",
    "ax_rgb.set_xbound(1, 1000)\n",
    "ax_rgb.set_ybound(1, 800)\n",
    "\n",
    "\n",
    "# ax_hsi.set_xlabel('x coordinate', labelpad=0)\n",
    "# ax_hsi.set_ylabel('y coordinate', labelpad=-5)\n",
    "ax_hsi.set_xticks([])\n",
    "ax_hsi.set_yticks([])\n",
    "ax_hsi.set_zticks([])\n",
    "# ax_hsi.set_zticks(np.arange(20, 120, 20))\n",
    "# ax_hsi.set_zticks(np.arange(5, 105, 5))\n",
    "# ax_hsi.set_zticks(np.arange(1, 21, 1))\n",
    "\n",
    "# for i, label in enumerate(ax_hsi.zaxis.get_ticklabels()):\n",
    "#     label.set_visible(i % 2 == 0)\n",
    "\n",
    "ax_rgb.set_xticks([])\n",
    "ax_rgb.set_yticks([])\n",
    "ax_rgb.set_zticks([])\n",
    "# ax_rgb.set_zticks([1, 2, 3])\n",
    "\n",
    "\n",
    "fig.subplots_adjust(left=0, right=1, bottom=0, top=1, hspace=0, wspace=0)\n",
    "# gs1.tight_layout(fig, pad=0, h_pad=0, w_pad=0, rect=[0, 1, 1, 0])\n",
    "\n",
    "fig.savefig('output/Figure_3.eps')\n",
    "fig.savefig('output/Figure_3.pdf', dpi=600)\n",
    "fig.savefig('output/hsi_rgb.png', dpi=600)\n",
    "# fig.savefig('output/hsi_rgb-highres.png', dpi=600)\n",
    "# fig.savefig('output/hsi_rgb.pdf')\n",
    "fig.show()"
   ]
  }
 ],
 "metadata": {
  "kernelspec": {
   "display_name": "Python 3",
   "language": "python",
   "name": "python3"
  },
  "language_info": {
   "codemirror_mode": {
    "name": "ipython",
    "version": 3
   },
   "file_extension": ".py",
   "mimetype": "text/x-python",
   "name": "python",
   "nbconvert_exporter": "python",
   "pygments_lexer": "ipython3",
   "version": "3.6.7"
  }
 },
 "nbformat": 4,
 "nbformat_minor": 2
}
