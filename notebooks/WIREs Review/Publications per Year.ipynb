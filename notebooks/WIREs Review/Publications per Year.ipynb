{
 "cells": [
  {
   "cell_type": "code",
   "execution_count": 21,
   "metadata": {},
   "outputs": [],
   "source": [
    "import matplotlib.pyplot as plt\n",
    "import numpy as np"
   ]
  },
  {
   "cell_type": "code",
   "execution_count": 22,
   "metadata": {},
   "outputs": [],
   "source": [
    "import matplotlib as mpl\n",
    "\n",
    "mpl.rc('image', interpolation='none')\n",
    "mpl.rc('savefig', dpi=300, transparent=False, bbox='tight')\n",
    "mpl.rc('path', simplify=True)\n",
    "mpl.rc('axes', linewidth=0.3)\n",
    "mpl.rc('font', size=6)"
   ]
  },
  {
   "cell_type": "code",
   "execution_count": 3,
   "metadata": {},
   "outputs": [],
   "source": [
    "publications = np.array([\n",
    "    [2003, 1],\n",
    "    [2004, 1],\n",
    "    [2005, 2],\n",
    "    [2006, 0],\n",
    "    [2007, 1],\n",
    "    [2008, 1],\n",
    "    [2009, 0],\n",
    "    [2010, 1],\n",
    "    [2011, 0],\n",
    "    [2012, 3],\n",
    "    [2013, 3],\n",
    "    [2014, 0],\n",
    "    [2015, 2],\n",
    "    [2016, 3],\n",
    "    [2017, 1],\n",
    "    [2018, 2],\n",
    "])"
   ]
  },
  {
   "cell_type": "code",
   "execution_count": 37,
   "metadata": {},
   "outputs": [
    {
     "data": {
      "text/plain": [
       "array([2003, 2004, 2005, 2006, 2007, 2008, 2009, 2010, 2011, 2012, 2013,\n",
       "       2014, 2015, 2016, 2017, 2018])"
      ]
     },
     "execution_count": 37,
     "metadata": {},
     "output_type": "execute_result"
    }
   ],
   "source": [
    "publications[:, 0]"
   ]
  },
  {
   "cell_type": "code",
   "execution_count": 46,
   "metadata": {},
   "outputs": [
    {
     "data": {
      "image/png": "[encoded data removed]",
      "text/plain": [
       "<Figure size 360x144 with 1 Axes>"
      ]
     },
     "metadata": {
      "needs_background": "light"
     },
     "output_type": "display_data"
    }
   ],
   "source": [
    "fig = plt.figure(figsize=(5, 2))\n",
    "\n",
    "ax = fig.gca()\n",
    "ax.bar(publications[:, 0], publications[:, 1], zorder=10)\n",
    "ax.set_yticks([0, 1, 2, 3])\n",
    "ax.set_xticks(publications[:, 0])\n",
    "ax.xaxis.set_tick_params(rotation=30)\n",
    "ax.grid(True, axis='y', zorder=-1)\n",
    "ax.set_xlabel('Year')\n",
    "ax.set_ylabel('# Publications')\n",
    "\n",
    "fig.savefig('output/Figure_4.eps')\n",
    "fig.show()"
   ]
  }
 ],
 "metadata": {
  "kernelspec": {
   "display_name": "Python 3",
   "language": "python",
   "name": "python3"
  },
  "language_info": {
   "codemirror_mode": {
    "name": "ipython",
    "version": 3
   },
   "file_extension": ".py",
   "mimetype": "text/x-python",
   "name": "python",
   "nbconvert_exporter": "python",
   "pygments_lexer": "ipython3",
   "version": "3.6.7"
  }
 },
 "nbformat": 4,
 "nbformat_minor": 2
}
